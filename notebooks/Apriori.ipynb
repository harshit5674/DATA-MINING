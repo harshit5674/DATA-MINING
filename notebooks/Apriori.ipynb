{
 "cells": [
  {
   "cell_type": "markdown",
   "id": "24d45392",
   "metadata": {},
   "source": [
    "Association Rule Learning is rule-based learning for identifying the association between different variables in a database.\n",
    "\n",
    "Apriori algorithm finds the most frequent itemsets or elements in a transaction database and identifies association rules between the items just like the above-mentioned example.\n",
    "\n"
   ]
  },
  {
   "cell_type": "markdown",
   "id": "e195156a",
   "metadata": {},
   "source": [
    "To construct association rules between elements or items, the algorithm considers 3 important factors which are, support, confidence and lift"
   ]
  },
  {
   "cell_type": "markdown",
   "id": "bb0e0497",
   "metadata": {},
   "source": [
    "The support of item I is defined as the ratio between the number of transactions containing the item I by the total number of transactions \n",
    "\n",
    "Confidence is measured by the proportion of transactions with item I1, in which item I2 also appears. The confidence between two items I1 and I2, in a transaction is defined as the total number of transactions containing both items I1 and I2 divided by the total number of transactions containing I1.\n",
    "\n",
    "Lift is the ratio between the confidence and support."
   ]
  },
  {
   "cell_type": "markdown",
   "id": "a3b6df9a",
   "metadata": {},
   "source": [
    "We will use the mlxtend library to implement Apriori.\n",
    "\n",
    "This library wants the dataset in the following format.\n",
    "\n",
    "    transaction_id    Cake   Ballon   Caps\n",
    "    1                  0       1       1\n",
    "    2                  1       0       0\n",
    "    3                  1       1       1\n",
    "    4                  0       0       0\n",
    "   \n",
    "Where 1 indicates that the item was bought in the particular transaction."
   ]
  },
  {
   "cell_type": "markdown",
   "id": "00bfa9d1",
   "metadata": {},
   "source": [
    "Now we will import our libraries and the dataset."
   ]
  },
  {
   "cell_type": "code",
   "execution_count": 1,
   "id": "19ed2af2",
   "metadata": {},
   "outputs": [],
   "source": [
    "import pandas as pd\n",
    "from mlxtend.frequent_patterns import apriori\n",
    "from mlxtend.frequent_patterns import association_rules"
   ]
  },
  {
   "cell_type": "code",
   "execution_count": null,
   "id": "bc2da999",
   "metadata": {},
   "outputs": [],
   "source": [
    "dp = pd.read_csv('https://raw.githubusercontent.com/harshit5674/DATA-MINING/main/datasets/apriori1.csv', encoding=\"ISO-8859-1\")\n",
    "dp.head()"
   ]
  },
  {
   "cell_type": "code",
   "execution_count": null,
   "id": "19fcf863",
   "metadata": {},
   "outputs": [],
   "source": [
    "dp['Description'] = dp['Description'].str.strip()"
   ]
  },
  {
   "cell_type": "markdown",
   "id": "8e7c3339",
   "metadata": {},
   "source": [
    "The above statement is to remove the spaces in the description."
   ]
  },
  {
   "cell_type": "code",
   "execution_count": null,
   "id": "d6ee1fb5",
   "metadata": {},
   "outputs": [],
   "source": [
    "#some of transaction quantity is negative which can not be possible remove them.\n",
    "d = dp[dp.Quantity >0]"
   ]
  },
  {
   "cell_type": "code",
   "execution_count": null,
   "id": "34f37491",
   "metadata": {},
   "outputs": [],
   "source": [
    "table = pd.pivot_table(data=df1,index='InvoiceNo',columns='Description',values='Quantity', aggfunc='sum',fill_value=0)"
   ]
  },
  {
   "cell_type": "markdown",
   "id": "3d0efe0f",
   "metadata": {},
   "source": [
    "The above statement converts our dataset into the format described above."
   ]
  },
  {
   "cell_type": "code",
   "execution_count": null,
   "id": "a9e838aa",
   "metadata": {},
   "outputs": [],
   "source": [
    "table.head()"
   ]
  },
  {
   "cell_type": "markdown",
   "id": "6cbe598f",
   "metadata": {},
   "source": [
    "You will notice that this would contain quantities of each item in each transaction, according to the above format we just need binary 0 or 1, so we will make that change."
   ]
  },
  {
   "cell_type": "code",
   "execution_count": null,
   "id": "28c4e402",
   "metadata": {},
   "outputs": [],
   "source": [
    "def convert_into_binary(x):\n",
    "    if x > 0:\n",
    "        return 1\n",
    "    else:\n",
    "        return 0"
   ]
  },
  {
   "cell_type": "code",
   "execution_count": null,
   "id": "2da7b58d",
   "metadata": {},
   "outputs": [],
   "source": [
    "table = table.applymap(convert_into_binary)"
   ]
  },
  {
   "cell_type": "code",
   "execution_count": null,
   "id": "2f00cb0f",
   "metadata": {},
   "outputs": [],
   "source": [
    "# remove postage item as it is just a seal which almost all transaction contains. \n",
    "table.drop(columns=['POSTAGE'],inplace=True)"
   ]
  },
  {
   "cell_type": "code",
   "execution_count": null,
   "id": "8bc60c40",
   "metadata": {},
   "outputs": [],
   "source": [
    "# call apriori function and pass minimum support here we are passing 4%. \n",
    "# means 4 times in total number of transaction the item should be present.\n",
    "frequent_itemsets = apriori(basket_sets, min_support=0.04, use_colnames=True)"
   ]
  },
  {
   "cell_type": "code",
   "execution_count": null,
   "id": "a4756e90",
   "metadata": {},
   "outputs": [],
   "source": [
    "frequent_itemsets"
   ]
  },
  {
   "cell_type": "markdown",
   "id": "a8850494",
   "metadata": {},
   "source": [
    "First step in generation of association rules is to get all the frequent itemsets on which binary partitions can be performed to get the antecedent and the consequent.\n",
    "\n",
    "Frequent itemsets are the ones which occur at least a minimum number of times in the transactions. Technically, these are the itemsets for which support value (fraction of transactions containing the itemset) is above a minimum threshold — min_support. We have kept min_support=0.09 in our above notebook."
   ]
  },
  {
   "cell_type": "code",
   "execution_count": null,
   "id": "bfa30352",
   "metadata": {},
   "outputs": [],
   "source": [
    "# We would apply association rules on frequent itemset. \n",
    "# here we are setting based on lift and keeping minimum lift as 1\n",
    "\n",
    "rules_mlxtend = association_rules(frequent_itemsets, metric=\"lift\", min_threshold=1)\n",
    "rules_mlxtend.head()"
   ]
  },
  {
   "cell_type": "markdown",
   "id": "b2ece036",
   "metadata": {},
   "source": [
    "From a list of all possible candidate rules, we aim to identify rules that fall above a minimum threshold level (like min_confidence or min_lift)."
   ]
  },
  {
   "cell_type": "code",
   "execution_count": null,
   "id": "6611d013",
   "metadata": {},
   "outputs": [],
   "source": [
    "rules_mlxtend[ (rules_mlxtend['lift'] >= 3) & (rules_mlxtend['confidence'] >= 0.6) ].head()"
   ]
  },
  {
   "cell_type": "markdown",
   "id": "36b6ddd9",
   "metadata": {},
   "source": [
    "antecedents and consequents -> The IF component of an association rule is known as the antecedent. The THEN component is known as the consequent. The antecedent and the consequent are disjoint; they have no items in common.\n",
    "\n",
    "antecedent support -> This measure gives an idea of how frequent antecedent is in all the transactions.\n",
    "\n",
    "consequent support -> This measure gives an idea of how frequent consequent is in all the transactions.\n"
   ]
  }
 ],
 "metadata": {
  "kernelspec": {
   "display_name": "Python 3 (ipykernel)",
   "language": "python",
   "name": "python3"
  },
  "language_info": {
   "codemirror_mode": {
    "name": "ipython",
    "version": 3
   },
   "file_extension": ".py",
   "mimetype": "text/x-python",
   "name": "python",
   "nbconvert_exporter": "python",
   "pygments_lexer": "ipython3",
   "version": "3.11.1"
  }
 },
 "nbformat": 4,
 "nbformat_minor": 5
}
